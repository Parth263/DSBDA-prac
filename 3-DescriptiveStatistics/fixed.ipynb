{
 "cells": [
  {
   "cell_type": "code",
   "execution_count": 1,
   "metadata": {},
   "outputs": [],
   "source": [
    "import pandas as pd\n",
    "import numpy as np\n",
    "from sklearn.preprocessing import LabelEncoder"
   ]
  },
  {
   "cell_type": "code",
   "execution_count": 2,
   "metadata": {},
   "outputs": [
    {
     "name": "stdout",
     "output_type": "stream",
     "text": [
      "Task 1: Summary Statistics for Mall_Customers.csv Grouped by Genre\n",
      "============================================================\n"
     ]
    }
   ],
   "source": [
    "print(\"Task 1: Summary Statistics for Mall_Customers.csv Grouped by Genre\")\n",
    "print(\"=\" * 60)"
   ]
  },
  {
   "cell_type": "code",
   "execution_count": 3,
   "metadata": {},
   "outputs": [],
   "source": [
    "df = pd.read_csv(\"Mall_Customers.csv\")\n",
    "df = df.rename(columns={'Annual Income (k$)': 'Income'}, inplace=False)"
   ]
  },
  {
   "cell_type": "code",
   "execution_count": 4,
   "metadata": {},
   "outputs": [],
   "source": [
    "numeric_cols = ['Age', 'Income', 'Spending Score (1-100)']\n",
    "cat_col = 'Genre'"
   ]
  },
  {
   "cell_type": "code",
   "execution_count": 13,
   "metadata": {},
   "outputs": [
    {
     "name": "stdout",
     "output_type": "stream",
     "text": [
      "\n",
      "Summary Statistics Grouped by Genre (Transposed Format):\n",
      "Genre                          Female    Male\n",
      "Age                    mean     38.10   39.81\n",
      "                       median   35.00   37.00\n",
      "                       min      18.00   18.00\n",
      "                       max      68.00   70.00\n",
      "                       std      12.64   15.51\n",
      "Income                 mean     59.25   62.23\n",
      "                       median   60.00   62.50\n",
      "                       min      16.00   15.00\n",
      "                       max     126.00  137.00\n",
      "                       std      26.01   26.64\n",
      "Spending Score (1-100) mean     51.53   48.51\n",
      "                       median   50.00   50.00\n",
      "                       min       5.00    1.00\n",
      "                       max      99.00   97.00\n",
      "                       std      24.11   27.90\n"
     ]
    }
   ],
   "source": [
    "# Round values to 2 decimal places and transpose for better readability\n",
    "grouped_stats = df.groupby(cat_col)[numeric_cols].agg(['mean', 'median', 'min', 'max', 'std']).round(2)\n",
    "\n",
    "# Transpose so that stats are rows and variables are columns\n",
    "print(\"\\nSummary Statistics Grouped by Genre (Transposed Format):\")\n",
    "print(grouped_stats.transpose())\n"
   ]
  },
  {
   "cell_type": "code",
   "execution_count": 10,
   "metadata": {},
   "outputs": [
    {
     "name": "stdout",
     "output_type": "stream",
     "text": [
      "\n",
      "Numeric Encoding for Genre:\n",
      "{'Female': np.int64(0), 'Male': np.int64(1)}\n",
      "\n",
      "List of Numeric Values for Genre (first 10 shown):\n",
      "[1, 1, 0, 0, 0, 0, 0, 0, 1, 0] ...\n"
     ]
    }
   ],
   "source": [
    "le = LabelEncoder()\n",
    "df['Genre_encoded'] = le.fit_transform(df[cat_col])\n",
    "category_mapping = dict(zip(le.classes_, le.transform(le.classes_)))\n",
    "print(\"\\nNumeric Encoding for Genre:\")\n",
    "print(category_mapping)\n",
    "numeric_values = df['Genre_encoded'].tolist()\n",
    "print(\"\\nList of Numeric Values for Genre (first 10 shown):\")\n",
    "print(numeric_values[:10], \"...\")"
   ]
  }
 ],
 "metadata": {
  "kernelspec": {
   "display_name": "Python 3",
   "language": "python",
   "name": "python3"
  },
  "language_info": {
   "codemirror_mode": {
    "name": "ipython",
    "version": 3
   },
   "file_extension": ".py",
   "mimetype": "text/x-python",
   "name": "python",
   "nbconvert_exporter": "python",
   "pygments_lexer": "ipython3",
   "version": "3.9.6"
  }
 },
 "nbformat": 4,
 "nbformat_minor": 2
}
