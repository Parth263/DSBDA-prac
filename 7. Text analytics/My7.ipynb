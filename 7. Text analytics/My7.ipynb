{
  "cells": [
    {
      "cell_type": "code",
      "execution_count": 15,
      "metadata": {
        "colab": {
          "base_uri": "https://localhost:8080/"
        },
        "id": "Wd2AvGGZutwW",
        "outputId": "bae899d6-4e88-4d34-d45c-cbb1f1456489"
      },
      "outputs": [
        {
          "name": "stdout",
          "output_type": "stream",
          "text": [
            "Defaulting to user installation because normal site-packages is not writeable\n",
            "Requirement already satisfied: nltk in /Users/damon/Library/Python/3.9/lib/python/site-packages (3.9.1)\n",
            "Requirement already satisfied: click in /Users/damon/Library/Python/3.9/lib/python/site-packages (from nltk) (8.1.8)\n",
            "Requirement already satisfied: joblib in /Users/damon/Library/Python/3.9/lib/python/site-packages (from nltk) (1.5.0)\n",
            "Requirement already satisfied: regex>=2021.8.3 in /Users/damon/Library/Python/3.9/lib/python/site-packages (from nltk) (2024.11.6)\n",
            "Requirement already satisfied: tqdm in /Users/damon/Library/Python/3.9/lib/python/site-packages (from nltk) (4.67.1)\n",
            "Note: you may need to restart the kernel to use updated packages.\n"
          ]
        }
      ],
      "source": [
        "pip install nltk"
      ]
    },
    {
      "cell_type": "code",
      "execution_count": 16,
      "metadata": {
        "colab": {
          "base_uri": "https://localhost:8080/"
        },
        "id": "EUYfuSTovqla",
        "outputId": "0d345001-bf87-47c9-84ab-5373f0863a93"
      },
      "outputs": [
        {
          "name": "stdout",
          "output_type": "stream",
          "text": [
            "Defaulting to user installation because normal site-packages is not writeable\n",
            "Requirement already satisfied: pip in /Users/damon/Library/Python/3.9/lib/python/site-packages (25.1.1)\n",
            "Note: you may need to restart the kernel to use updated packages.\n"
          ]
        }
      ],
      "source": [
        "pip install --upgrade pip"
      ]
    },
    {
      "cell_type": "code",
      "execution_count": 17,
      "metadata": {
        "colab": {
          "base_uri": "https://localhost:8080/"
        },
        "id": "83_lBOIHvuNA",
        "outputId": "f9e0e49c-45e9-4886-d669-50bb769ff37f"
      },
      "outputs": [
        {
          "name": "stdout",
          "output_type": "stream",
          "text": [
            "['Hello Mr. Smith, how are you doing today ?', 'The weather is great, and the city is awesome !', 'The sky is pinkish-blue.', \"You shouldn't eat cardboard\"]\n"
          ]
        },
        {
          "name": "stderr",
          "output_type": "stream",
          "text": [
            "[nltk_data] Downloading package punkt_tab to /Users/damon/nltk_data...\n",
            "[nltk_data]   Package punkt_tab is already up-to-date!\n",
            "[nltk_data] Downloading package punkt to /Users/damon/nltk_data...\n",
            "[nltk_data]   Package punkt is already up-to-date!\n"
          ]
        }
      ],
      "source": [
        "import nltk\n",
        "from nltk.tokenize import sent_tokenize\n",
        "nltk.download('punkt_tab')\n",
        "nltk.download('punkt')\n",
        "text=\"\"\"Hello Mr. Smith, how are you doing today ? The weather is great, and the city is awesome ! The sky is pinkish-blue. You shouldn't eat cardboard \"\"\"\n",
        "tokenized_text=sent_tokenize(text)\n",
        "print(tokenized_text)"
      ]
    },
    {
      "cell_type": "code",
      "execution_count": 18,
      "metadata": {
        "colab": {
          "base_uri": "https://localhost:8080/"
        },
        "id": "69qprLEWwC7O",
        "outputId": "fb83b500-b755-4b01-cee2-cb7d2a98685c"
      },
      "outputs": [
        {
          "name": "stdout",
          "output_type": "stream",
          "text": [
            "['Hello', 'Mr.', 'Smith', ',', 'how', 'are', 'you', 'doing', 'today', '?', 'The', 'weather', 'is', 'great', ',', 'and', 'the', 'city', 'is', 'awesome', '!', 'The', 'sky', 'is', 'pinkish-blue', '.', 'You', 'should', \"n't\", 'eat', 'cardboard']\n"
          ]
        }
      ],
      "source": [
        "from nltk.tokenize import word_tokenize\n",
        "tokenized_word=word_tokenize(text)\n",
        "print(tokenized_word)"
      ]
    },
    {
      "cell_type": "code",
      "execution_count": 19,
      "metadata": {
        "colab": {
          "base_uri": "https://localhost:8080/"
        },
        "id": "ICVzX-2EwIhC",
        "outputId": "ce54715b-d913-401a-f2d8-c500004ef66b"
      },
      "outputs": [
        {
          "name": "stdout",
          "output_type": "stream",
          "text": [
            "<FreqDist with 27 samples and 31 outcomes>\n"
          ]
        }
      ],
      "source": [
        "from nltk.probability import FreqDist\n",
        "fdist = FreqDist(tokenized_word)\n",
        "print(fdist)"
      ]
    },
    {
      "cell_type": "code",
      "execution_count": 20,
      "metadata": {
        "colab": {
          "base_uri": "https://localhost:8080/"
        },
        "id": "JCA5ReUlwMVv",
        "outputId": "dc67d21a-f260-4585-ec44-82e6b789bf3c"
      },
      "outputs": [
        {
          "name": "stdout",
          "output_type": "stream",
          "text": [
            "{'more', 'm', 'under', 'were', 'there', \"couldn't\", 'hasn', 'o', 'me', 'll', 'very', \"doesn't\", \"don't\", 'myself', 'before', \"i'll\", 'am', 'needn', 'themselves', \"won't\", \"weren't\", 'and', 'them', 'from', \"shouldn't\", 'if', 'ma', 'then', 'isn', \"that'll\", 'you', 'for', 'we', 'over', 'it', \"it'd\", 'ain', 'shouldn', 'again', 'herself', 'against', 'have', \"we're\", \"he'll\", \"they're\", 'are', 'doesn', \"should've\", 'my', 'himself', 'does', 'few', 'during', \"aren't\", \"we'll\", 's', \"they'll\", \"needn't\", \"she's\", 'their', \"haven't\", 'those', 'had', 'now', 'wasn', 'too', \"hasn't\", 'with', \"it's\", 'how', 'an', 'wouldn', 'its', \"they'd\", 'did', \"didn't\", \"i've\", 'or', 'hadn', 'any', 'ours', 'below', 'to', 'won', 'as', 'where', 'all', 'of', 'she', 'in', 'be', 'same', 'when', 'your', 'he', 'that', 'haven', 'but', 'what', 'not', 'shan', 'don', 'such', 'both', \"he's\", 'being', 'out', \"they've\", \"mustn't\", 'hers', \"shan't\", \"it'll\", 'just', 'through', 'after', 'until', 'into', 're', \"he'd\", 'nor', \"wouldn't\", \"you'll\", 'own', 'didn', 'has', 'only', 't', 'above', 'couldn', 'so', 'having', 'ourselves', \"she'd\", 'aren', 'a', \"you're\", 'mustn', 'do', 'some', \"you'd\", 'is', 'will', 'than', 'about', 'y', 'up', 'theirs', 'doing', \"wasn't\", 'by', 'itself', 'once', 'which', 'most', \"she'll\", 'these', 'the', 'further', 'other', 'down', \"you've\", 'her', 'between', 'they', \"we'd\", 'him', 'should', \"we've\", 'each', 've', 'weren', 'i', \"hadn't\", \"i'd\", 'was', \"isn't\", 'why', 'because', 'yours', 'been', 'on', 'off', 'our', 'd', 'yourselves', 'who', \"mightn't\", 'his', 'this', 'whom', 'no', 'yourself', 'here', 'mightn', 'can', 'while', 'at', \"i'm\"}\n"
          ]
        },
        {
          "name": "stderr",
          "output_type": "stream",
          "text": [
            "[nltk_data] Downloading package stopwords to /Users/damon/nltk_data...\n",
            "[nltk_data]   Package stopwords is already up-to-date!\n"
          ]
        }
      ],
      "source": [
        "from nltk.corpus import stopwords\n",
        "nltk.download('stopwords')\n",
        "stop_words=set(stopwords.words(\"english\"))\n",
        "print(stop_words)"
      ]
    },
    {
      "cell_type": "code",
      "execution_count": 21,
      "metadata": {
        "colab": {
          "base_uri": "https://localhost:8080/"
        },
        "id": "H25nQ2JhwfWt",
        "outputId": "52e72458-2523-4c48-da84-0b1a56f5947c"
      },
      "outputs": [
        {
          "name": "stdout",
          "output_type": "stream",
          "text": [
            "Tokenized Sentence: ['Hello', 'Mr.', 'Smith', ',', 'how', 'are', 'you', 'doing', 'today', '?', 'The', 'weather', 'is', 'great', ',', 'and', 'the', 'city', 'is', 'awesome', '!', 'The', 'sky', 'is', 'pinkish-blue', '.', 'You', 'should', \"n't\", 'eat', 'cardboard']\n",
            "Filterd Sentence: ['Hello', 'Mr.', 'Smith', ',', 'today', '?', 'The', 'weather', 'great', ',', 'city', 'awesome', '!', 'The', 'sky', 'pinkish-blue', '.', 'You', \"n't\", 'eat', 'cardboard']\n"
          ]
        }
      ],
      "source": [
        "filtered_sent=[]\n",
        "for w in tokenized_word:\n",
        "    if w not in stop_words:\n",
        "        filtered_sent.append(w)\n",
        "print(\"Tokenized Sentence:\",tokenized_word)\n",
        "print(\"Filterd Sentence:\",filtered_sent)"
      ]
    },
    {
      "cell_type": "code",
      "execution_count": 22,
      "metadata": {
        "colab": {
          "base_uri": "https://localhost:8080/"
        },
        "id": "3GMTeIFJwinE",
        "outputId": "a9d5e96b-1c4d-44d4-8482-bccc593ace01"
      },
      "outputs": [
        {
          "name": "stdout",
          "output_type": "stream",
          "text": [
            "Filtered Sentence: ['Hello', 'Mr.', 'Smith', ',', 'today', '?', 'The', 'weather', 'great', ',', 'city', 'awesome', '!', 'The', 'sky', 'pinkish-blue', '.', 'You', \"n't\", 'eat', 'cardboard']\n",
            "Stemmed Sentence: ['hello', 'mr.', 'smith', ',', 'today', '?', 'the', 'weather', 'great', ',', 'citi', 'awesom', '!', 'the', 'sky', 'pinkish-blu', '.', 'you', \"n't\", 'eat', 'cardboard']\n"
          ]
        }
      ],
      "source": [
        "from nltk.stem import PorterStemmer\n",
        "from nltk.tokenize import sent_tokenize, word_tokenize\n",
        "\n",
        "ps = PorterStemmer()\n",
        "\n",
        "stemmed_words=[]\n",
        "for w in filtered_sent:\n",
        "    stemmed_words.append(ps.stem(w))\n",
        "\n",
        "print(\"Filtered Sentence:\",filtered_sent)\n",
        "print(\"Stemmed Sentence:\",stemmed_words)"
      ]
    },
    {
      "cell_type": "code",
      "execution_count": 23,
      "metadata": {
        "colab": {
          "base_uri": "https://localhost:8080/"
        },
        "id": "GZ-TLHPowlvg",
        "outputId": "4f3de80e-5355-4fc9-98b5-1aa3bf296ece"
      },
      "outputs": [
        {
          "name": "stdout",
          "output_type": "stream",
          "text": [
            "Lemmatized Word: fly\n",
            "Stemmed Word: fli\n"
          ]
        },
        {
          "name": "stderr",
          "output_type": "stream",
          "text": [
            "[nltk_data] Downloading package wordnet to /Users/damon/nltk_data...\n",
            "[nltk_data]   Package wordnet is already up-to-date!\n"
          ]
        }
      ],
      "source": [
        "from nltk.stem.wordnet import WordNetLemmatizer\n",
        "import nltk\n",
        "nltk.download('wordnet')\n",
        "lem = WordNetLemmatizer()\n",
        "\n",
        "from nltk.stem.porter import PorterStemmer\n",
        "stem = PorterStemmer()\n",
        "\n",
        "word = \"flying\"\n",
        "print(\"Lemmatized Word:\",lem.lemmatize(word,\"v\"))\n",
        "print(\"Stemmed Word:\",stem.stem(word))"
      ]
    },
    {
      "cell_type": "code",
      "execution_count": 24,
      "metadata": {
        "id": "y3SPFR2twq3K"
      },
      "outputs": [],
      "source": [
        "sent = \"Albert Einstein was born in Ulm, Germany in 1879.\""
      ]
    },
    {
      "cell_type": "code",
      "execution_count": 25,
      "metadata": {
        "colab": {
          "base_uri": "https://localhost:8080/"
        },
        "id": "LR7T14cuwugb",
        "outputId": "e3ec8297-6367-4bba-f43f-09b45f0cd770"
      },
      "outputs": [
        {
          "name": "stdout",
          "output_type": "stream",
          "text": [
            "['Albert', 'Einstein', 'was', 'born', 'in', 'Ulm', ',', 'Germany', 'in', '1879', '.']\n"
          ]
        }
      ],
      "source": [
        "tokens=nltk.word_tokenize(sent)\n",
        "print(tokens)"
      ]
    },
    {
      "cell_type": "code",
      "execution_count": 26,
      "metadata": {
        "colab": {
          "base_uri": "https://localhost:8080/"
        },
        "id": "wqLh1bOKwxHB",
        "outputId": "a349b1aa-5f00-4cde-acde-e59a9dfe2e3a"
      },
      "outputs": [
        {
          "name": "stderr",
          "output_type": "stream",
          "text": [
            "[nltk_data] Downloading package averaged_perceptron_tagger_eng to\n",
            "[nltk_data]     /Users/damon/nltk_data...\n",
            "[nltk_data]   Package averaged_perceptron_tagger_eng is already up-to-\n",
            "[nltk_data]       date!\n"
          ]
        },
        {
          "data": {
            "text/plain": [
              "[('Albert', 'NNP'),\n",
              " ('Einstein', 'NNP'),\n",
              " ('was', 'VBD'),\n",
              " ('born', 'VBN'),\n",
              " ('in', 'IN'),\n",
              " ('Ulm', 'NNP'),\n",
              " (',', ','),\n",
              " ('Germany', 'NNP'),\n",
              " ('in', 'IN'),\n",
              " ('1879', 'CD'),\n",
              " ('.', '.')]"
            ]
          },
          "execution_count": 26,
          "metadata": {},
          "output_type": "execute_result"
        }
      ],
      "source": [
        "import nltk\n",
        "nltk.download('averaged_perceptron_tagger_eng')\n",
        "nltk.pos_tag(tokens)"
      ]
    },
    {
      "cell_type": "code",
      "execution_count": 27,
      "metadata": {
        "colab": {
          "base_uri": "https://localhost:8080/",
          "height": 206
        },
        "id": "LdB58LwsxDeK",
        "outputId": "a2639e83-aea8-4d52-d529-d0bf50f74217"
      },
      "outputs": [
        {
          "data": {
            "text/html": [
              "<div>\n",
              "<style scoped>\n",
              "    .dataframe tbody tr th:only-of-type {\n",
              "        vertical-align: middle;\n",
              "    }\n",
              "\n",
              "    .dataframe tbody tr th {\n",
              "        vertical-align: top;\n",
              "    }\n",
              "\n",
              "    .dataframe thead th {\n",
              "        text-align: right;\n",
              "    }\n",
              "</style>\n",
              "<table border=\"1\" class=\"dataframe\">\n",
              "  <thead>\n",
              "    <tr style=\"text-align: right;\">\n",
              "      <th></th>\n",
              "      <th>PhraseId</th>\n",
              "      <th>SentenceId</th>\n",
              "      <th>Phrase</th>\n",
              "      <th>Sentiment</th>\n",
              "    </tr>\n",
              "  </thead>\n",
              "  <tbody>\n",
              "    <tr>\n",
              "      <th>0</th>\n",
              "      <td>1</td>\n",
              "      <td>1</td>\n",
              "      <td>A series of escapades demonstrating the adage ...</td>\n",
              "      <td>1</td>\n",
              "    </tr>\n",
              "    <tr>\n",
              "      <th>1</th>\n",
              "      <td>2</td>\n",
              "      <td>1</td>\n",
              "      <td>A series of escapades demonstrating the adage ...</td>\n",
              "      <td>2</td>\n",
              "    </tr>\n",
              "    <tr>\n",
              "      <th>2</th>\n",
              "      <td>3</td>\n",
              "      <td>1</td>\n",
              "      <td>A series</td>\n",
              "      <td>2</td>\n",
              "    </tr>\n",
              "    <tr>\n",
              "      <th>3</th>\n",
              "      <td>4</td>\n",
              "      <td>1</td>\n",
              "      <td>A</td>\n",
              "      <td>2</td>\n",
              "    </tr>\n",
              "    <tr>\n",
              "      <th>4</th>\n",
              "      <td>5</td>\n",
              "      <td>1</td>\n",
              "      <td>series</td>\n",
              "      <td>2</td>\n",
              "    </tr>\n",
              "  </tbody>\n",
              "</table>\n",
              "</div>"
            ],
            "text/plain": [
              "   PhraseId  SentenceId                                             Phrase  \\\n",
              "0         1           1  A series of escapades demonstrating the adage ...   \n",
              "1         2           1  A series of escapades demonstrating the adage ...   \n",
              "2         3           1                                           A series   \n",
              "3         4           1                                                  A   \n",
              "4         5           1                                             series   \n",
              "\n",
              "   Sentiment  \n",
              "0          1  \n",
              "1          2  \n",
              "2          2  \n",
              "3          2  \n",
              "4          2  "
            ]
          },
          "execution_count": 27,
          "metadata": {},
          "output_type": "execute_result"
        }
      ],
      "source": [
        "import nltk\n",
        "import pandas as pd\n",
        "data=pd.read_csv('train.tsv', sep='\\t')\n",
        "data.head()"
      ]
    },
    {
      "cell_type": "code",
      "execution_count": 28,
      "metadata": {
        "colab": {
          "base_uri": "https://localhost:8080/"
        },
        "id": "Um_huG48yOE3",
        "outputId": "e0b845bf-95da-4dad-d9df-b26d0268a085"
      },
      "outputs": [
        {
          "name": "stdout",
          "output_type": "stream",
          "text": [
            "<class 'pandas.core.frame.DataFrame'>\n",
            "RangeIndex: 156060 entries, 0 to 156059\n",
            "Data columns (total 4 columns):\n",
            " #   Column      Non-Null Count   Dtype \n",
            "---  ------      --------------   ----- \n",
            " 0   PhraseId    156060 non-null  int64 \n",
            " 1   SentenceId  156060 non-null  int64 \n",
            " 2   Phrase      156058 non-null  object\n",
            " 3   Sentiment   156060 non-null  int64 \n",
            "dtypes: int64(3), object(1)\n",
            "memory usage: 4.8+ MB\n"
          ]
        }
      ],
      "source": [
        "data.info()"
      ]
    },
    {
      "cell_type": "code",
      "execution_count": 29,
      "metadata": {
        "colab": {
          "base_uri": "https://localhost:8080/",
          "height": 272
        },
        "id": "T7X9tSeAyREU",
        "outputId": "8a35a0e1-8a92-4890-8a3b-4caca2b83ebc"
      },
      "outputs": [
        {
          "data": {
            "text/plain": [
              "Sentiment\n",
              "2    79582\n",
              "3    32927\n",
              "1    27273\n",
              "4     9206\n",
              "0     7072\n",
              "Name: count, dtype: int64"
            ]
          },
          "execution_count": 29,
          "metadata": {},
          "output_type": "execute_result"
        }
      ],
      "source": [
        "data.Sentiment.value_counts()"
      ]
    },
    {
      "cell_type": "code",
      "execution_count": 30,
      "metadata": {
        "colab": {
          "base_uri": "https://localhost:8080/",
          "height": 449
        },
        "id": "bLDgrbiVyUAA",
        "outputId": "daffd368-4a39-488c-ebec-59521ef2af8a"
      },
      "outputs": [
        {
          "data": {
            "image/png": "[encoded data removed]",
            "text/plain": [
              "<Figure size 640x480 with 1 Axes>"
            ]
          },
          "metadata": {},
          "output_type": "display_data"
        }
      ],
      "source": [
        "import matplotlib.pyplot as plt\n",
        "Sentiment_count=data.groupby('Sentiment').count()\n",
        "plt.bar(Sentiment_count.index.values, Sentiment_count['Phrase'])\n",
        "plt.xlabel('Review Sentiments')\n",
        "plt.ylabel('Number of Review')\n",
        "plt.show()"
      ]
    },
    {
      "cell_type": "code",
      "execution_count": 31,
      "metadata": {
        "id": "H43Emxvryu4Q"
      },
      "outputs": [
        {
          "name": "stderr",
          "output_type": "stream",
          "text": [
            "/Users/damon/Library/Python/3.9/lib/python/site-packages/sklearn/feature_extraction/text.py:517: UserWarning: The parameter 'token_pattern' will not be used since 'tokenizer' is not None'\n",
            "  warnings.warn(\n"
          ]
        }
      ],
      "source": [
        "data['Phrase'] = data['Phrase'].fillna('')\n",
        "from sklearn.feature_extraction.text import CountVectorizer\n",
        "from nltk.tokenize import RegexpTokenizer\n",
        "token = RegexpTokenizer(r'[a-zA-Z0-9]+')\n",
        "cv = CountVectorizer(lowercase=True,stop_words='english',ngram_range = (1,1),tokenizer = token.tokenize)\n",
        "text_counts= cv.fit_transform(data['Phrase'])"
      ]
    },
    {
      "cell_type": "code",
      "execution_count": 32,
      "metadata": {
        "id": "g8n5Rscoy--8"
      },
      "outputs": [],
      "source": [
        "from sklearn.model_selection import train_test_split\n",
        "X_train, X_test, y_train, y_test = train_test_split(\n",
        "    text_counts, data['Sentiment'], test_size=0.3, random_state=1)"
      ]
    },
    {
      "cell_type": "code",
      "execution_count": 33,
      "metadata": {
        "colab": {
          "base_uri": "https://localhost:8080/"
        },
        "id": "gdGdmQT0zDkR",
        "outputId": "0e85c5ce-9fd6-4ded-d1ec-51f88a0cdbae"
      },
      "outputs": [
        {
          "name": "stdout",
          "output_type": "stream",
          "text": [
            "MultinomialNB Accuracy: 0.6048955529924388\n"
          ]
        }
      ],
      "source": [
        "from sklearn.naive_bayes import MultinomialNB\n",
        "from sklearn import metrics\n",
        "clf = MultinomialNB().fit(X_train, y_train)\n",
        "predicted= clf.predict(X_test)\n",
        "print(\"MultinomialNB Accuracy:\",metrics.accuracy_score(y_test, predicted))"
      ]
    },
    {
      "cell_type": "code",
      "execution_count": 34,
      "metadata": {
        "id": "7qwuya3lzHHE"
      },
      "outputs": [],
      "source": [
        "from sklearn.feature_extraction.text import TfidfVectorizer\n",
        "tf=TfidfVectorizer()\n",
        "text_tf= tf.fit_transform(data['Phrase'])"
      ]
    },
    {
      "cell_type": "code",
      "execution_count": 35,
      "metadata": {
        "colab": {
          "base_uri": "https://localhost:8080/"
        },
        "id": "5A2qI5f3zL9z",
        "outputId": "cc1a15da-bc9d-4e93-ae49-d221fa6b8922"
      },
      "outputs": [
        {
          "name": "stdout",
          "output_type": "stream",
          "text": [
            "  (np.int32(0), np.int32(11837))\t0.1761994204821687\n",
            "  (np.int32(0), np.int32(9227))\t0.27061683772839323\n",
            "  (np.int32(0), np.int32(4577))\t0.278538658922562\n",
            "  (np.int32(0), np.int32(3490))\t0.2485059095620638\n",
            "  (np.int32(0), np.int32(13505))\t0.17690005957760713\n",
            "  (np.int32(0), np.int32(288))\t0.251134096800077\n",
            "  (np.int32(0), np.int32(13503))\t0.08982508036989033\n",
            "  (np.int32(0), np.int32(14871))\t0.1354415412970302\n",
            "  (np.int32(0), np.int32(7217))\t0.17522921677393963\n",
            "  (np.int32(0), np.int32(5821))\t0.2625302862532789\n",
            "  (np.int32(0), np.int32(5323))\t0.20344769269023563\n",
            "  (np.int32(0), np.int32(5837))\t0.22883807138484064\n",
            "  (np.int32(0), np.int32(529))\t0.1614381914318891\n",
            "  (np.int32(0), np.int32(5595))\t0.265796263188737\n",
            "  (np.int32(0), np.int32(12424))\t0.1381592967010513\n",
            "  (np.int32(0), np.int32(14888))\t0.28701927784529135\n",
            "  (np.int32(0), np.int32(9204))\t0.19301332592202286\n",
            "  (np.int32(0), np.int32(602))\t0.26341877863818697\n",
            "  (np.int32(0), np.int32(1879))\t0.11034437734762885\n",
            "  (np.int32(0), np.int32(9085))\t0.1898515417082945\n",
            "  (np.int32(0), np.int32(593))\t0.22068902883834374\n",
            "  (np.int32(0), np.int32(13681))\t0.07615285026452821\n",
            "  (np.int32(0), np.int32(8807))\t0.1353879543646446\n",
            "  (np.int32(0), np.int32(12857))\t0.12785637560254456\n",
            "  (np.int32(1), np.int32(11837))\t0.2912592693521437\n",
            "  :\t:\n",
            "  (np.int32(156050), np.int32(625))\t0.2115725833396903\n",
            "  (np.int32(156050), np.int32(11465))\t0.670263619653983\n",
            "  (np.int32(156050), np.int32(9193))\t0.6864890126115724\n",
            "  (np.int32(156051), np.int32(625))\t0.21534359576868978\n",
            "  (np.int32(156051), np.int32(11465))\t0.6822102168950972\n",
            "  (np.int32(156051), np.int32(9193))\t0.6987248068627274\n",
            "  (np.int32(156052), np.int32(625))\t0.3010154308931625\n",
            "  (np.int32(156052), np.int32(11465))\t0.953619269081851\n",
            "  (np.int32(156053), np.int32(1313))\t0.40068964783307426\n",
            "  (np.int32(156053), np.int32(5328))\t0.3853824417825967\n",
            "  (np.int32(156053), np.int32(6245))\t0.45540097827929693\n",
            "  (np.int32(156053), np.int32(1027))\t0.4917001772764322\n",
            "  (np.int32(156053), np.int32(2313))\t0.4917001772764322\n",
            "  (np.int32(156054), np.int32(5328))\t0.4206249935248471\n",
            "  (np.int32(156054), np.int32(6245))\t0.4970466029897592\n",
            "  (np.int32(156054), np.int32(1027))\t0.5366653003868254\n",
            "  (np.int32(156054), np.int32(2313))\t0.5366653003868254\n",
            "  (np.int32(156055), np.int32(6245))\t1.0\n",
            "  (np.int32(156056), np.int32(5328))\t0.4847452274521073\n",
            "  (np.int32(156056), np.int32(1027))\t0.618474762808639\n",
            "  (np.int32(156056), np.int32(2313))\t0.618474762808639\n",
            "  (np.int32(156057), np.int32(1027))\t0.7071067811865476\n",
            "  (np.int32(156057), np.int32(2313))\t0.7071067811865476\n",
            "  (np.int32(156058), np.int32(1027))\t1.0\n",
            "  (np.int32(156059), np.int32(2313))\t1.0\n"
          ]
        }
      ],
      "source": [
        "print(text_tf)"
      ]
    },
    {
      "cell_type": "code",
      "execution_count": 36,
      "metadata": {
        "id": "UjVZjCA8zPmS"
      },
      "outputs": [],
      "source": [
        "from sklearn.model_selection import train_test_split\n",
        "X_train, X_test, y_train, y_test = train_test_split(\n",
        "    text_tf, data['Sentiment'], test_size=0.3, random_state=123)"
      ]
    },
    {
      "cell_type": "code",
      "execution_count": 37,
      "metadata": {
        "colab": {
          "base_uri": "https://localhost:8080/"
        },
        "id": "EjhmAOhzzTFy",
        "outputId": "964285de-9c7a-464e-b26b-424bda0b24df"
      },
      "outputs": [
        {
          "name": "stdout",
          "output_type": "stream",
          "text": [
            "MultinomialNB Accuracy: 0.5865479089239182\n"
          ]
        }
      ],
      "source": [
        "#Model generation\n",
        "from sklearn.naive_bayes import MultinomialNB\n",
        "from sklearn import metrics\n",
        "clf = MultinomialNB().fit(X_train, y_train)\n",
        "predicted= clf.predict(X_test)\n",
        "print(\"MultinomialNB Accuracy:\",metrics.accuracy_score(y_test, predicted))"
      ]
    }
  ],
  "metadata": {
    "colab": {
      "provenance": []
    },
    "kernelspec": {
      "display_name": "Python 3",
      "name": "python3"
    },
    "language_info": {
      "codemirror_mode": {
        "name": "ipython",
        "version": 3
      },
      "file_extension": ".py",
      "mimetype": "text/x-python",
      "name": "python",
      "nbconvert_exporter": "python",
      "pygments_lexer": "ipython3",
      "version": "3.9.6"
    }
  },
  "nbformat": 4,
  "nbformat_minor": 0
}
